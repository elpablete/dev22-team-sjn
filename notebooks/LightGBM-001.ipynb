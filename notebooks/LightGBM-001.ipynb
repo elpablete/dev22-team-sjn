{
 "cells": [
  {
   "cell_type": "code",
   "execution_count": 1,
   "id": "a3d49467-33bb-4ee0-9d6f-20e994f0a2d3",
   "metadata": {},
   "outputs": [],
   "source": [
    "import numpy as np\n",
    "import pandas as pd\n",
    "\n",
    "import sklearn.model_selection\n",
    "import sklearn.preprocessing\n",
    "\n",
    "import scipy.signal as signal\n",
    "import scipy.interpolate as interpolate\n",
    "import scipy.optimize as optimize\n",
    "\n",
    "import seaborn as sns\n",
    "\n",
    "from IPython.display import display\n",
    "\n",
    "from eis.EISDataIO import eis_dataframe_from_csv\n",
    "\n",
    "import lightgbm as lgb\n",
    "\n",
    "from os import path\n",
    "import logging"
   ]
  },
  {
   "cell_type": "code",
   "execution_count": 2,
   "id": "81c8ff3d-0a81-4f07-abca-e5ae73572949",
   "metadata": {},
   "outputs": [],
   "source": [
    "# loading training data\n",
    "\n",
    "# if you are on a windows machine un-comment the following line to get the path to training data\n",
    "# here = !echo %cd%\n",
    "\n",
    "# if you are on a mac/ unix machine un-comment the following line to get the path to training data\n",
    "here = !pwd\n",
    "\n",
    "train_data_path = path.join(path.dirname(here[0]), \"train_data.csv\")\n",
    "eis_data = eis_dataframe_from_csv(train_data_path)"
   ]
  },
  {
   "cell_type": "markdown",
   "id": "987b9399-6dbe-4225-b33e-468f3bbe286c",
   "metadata": {},
   "source": [
    "# Reclasification\n",
    "\n",
    "We ran a LightGBM model with the given labels and got ~45% accuracy. Thus, we decided to try different reclasification approaches according to what was discussed during the Q&As about the ambiguity of the original \"9-labels\" classification, such as `Kmeans` and `Gaussian Mixture`. The idea with this was see if the data itself could be separated in more general classes that the ones that were given. This route didn't take us anywhere as most of the samples were classified in the same group.\n",
    "\n",
    "At the end, we decided to go for a reclasification of labels looking for the most parcimonious ECMs, as follows:"
   ]
  },
  {
   "cell_type": "code",
   "execution_count": 3,
   "id": "cbf98a9f-2da8-4bbe-9646-b0af6d23d45d",
   "metadata": {},
   "outputs": [],
   "source": [
    "reclasification = {\n",
    "    \"L-R-RCPE\": \"0\",\n",
    "    \"L-R-RCPE-RCPE\": \"0\",\n",
    "    \"L-R-RCPE-RCPE-RCPE\": \"0\",\n",
    "    \"RC-G-G\": \"1\",\n",
    "    \"RC-RC-RCPE-RCPE\": \"2\",\n",
    "    \"RCPE-RCPE\": \"2\",\n",
    "    \"RCPE-RCPE-RCPE\": \"2\",\n",
    "    \"RCPE-RCPE-RCPE-RCPE\": \"2\",\n",
    "    \"Rs_Ws\": \"3\"\n",
    "}\n",
    "inverse_reclasification = {\n",
    "    \"0\": \"L-R-RCPE\",\n",
    "    \"1\": \"RC-G-G\",\n",
    "    \"2\": \"RCPE-RCPE\",\n",
    "    \"3\": \"Rs_Ws\"\n",
    "}"
   ]
  },
  {
   "cell_type": "code",
   "execution_count": 4,
   "id": "99d3dc5c-27e4-474b-a661-4edf3a6a494f",
   "metadata": {},
   "outputs": [],
   "source": [
    "eis_data[\"circuit_recla\"] = eis_data[\"Circuit\"].map(reclasification)"
   ]
  },
  {
   "cell_type": "code",
   "execution_count": 5,
   "id": "2999d408-16fc-41ab-abb3-0b29ceb8ba11",
   "metadata": {},
   "outputs": [
    {
     "data": {
      "text/html": [
       "<div>\n",
       "<style scoped>\n",
       "    .dataframe tbody tr th:only-of-type {\n",
       "        vertical-align: middle;\n",
       "    }\n",
       "\n",
       "    .dataframe tbody tr th {\n",
       "        vertical-align: top;\n",
       "    }\n",
       "\n",
       "    .dataframe thead th {\n",
       "        text-align: right;\n",
       "    }\n",
       "</style>\n",
       "<table border=\"1\" class=\"dataframe\">\n",
       "  <thead>\n",
       "    <tr style=\"text-align: right;\">\n",
       "      <th></th>\n",
       "      <th>freq</th>\n",
       "      <th>Z</th>\n",
       "      <th>Circuit</th>\n",
       "      <th>Parameters</th>\n",
       "      <th>circuit_recla</th>\n",
       "      <th>Z_real</th>\n",
       "      <th>Z_imag</th>\n",
       "    </tr>\n",
       "  </thead>\n",
       "  <tbody>\n",
       "    <tr>\n",
       "      <th>0</th>\n",
       "      <td>[0.1, 0.148398179, 0.220220195, 0.326802759, 0...</td>\n",
       "      <td>[(309.82561192-156.06088233j), (267.46983919-1...</td>\n",
       "      <td>L-R-RCPE-RCPE-RCPE</td>\n",
       "      <td>L1: 2.94e-08, R1: 4.51e+00, R2: 5.19e-02, CPE1...</td>\n",
       "      <td>0</td>\n",
       "      <td>[309.82561192, 267.46983919, 229.38061493, 196...</td>\n",
       "      <td>[-156.06088233, -146.21033646, -133.4855237, -...</td>\n",
       "    </tr>\n",
       "    <tr>\n",
       "      <th>1</th>\n",
       "      <td>[1.0, 1.34339933, 1.80472177, 2.42446202, 3.25...</td>\n",
       "      <td>[(344.50700012-0.87321496j), (344.36191597-0.9...</td>\n",
       "      <td>RC-RC-RCPE-RCPE</td>\n",
       "      <td>R1: 2.08e+02, R2: 2.50e+01, R3: 9.57e+01, R4: ...</td>\n",
       "      <td>2</td>\n",
       "      <td>[344.50700012, 344.36191597, 344.19647198, 344...</td>\n",
       "      <td>[-0.87321496, -0.99738889, -1.13909869, -1.300...</td>\n",
       "    </tr>\n",
       "    <tr>\n",
       "      <th>2</th>\n",
       "      <td>[1.0, 1.26360956, 1.59670912, 2.01761691, 2.54...</td>\n",
       "      <td>[(3080.15920083-80.84202473j), (3071.83539583-...</td>\n",
       "      <td>L-R-RCPE-RCPE-RCPE</td>\n",
       "      <td>L1: 3.35e-08, R1: 6.95e+01, R2: 7.49e+01, CPE1...</td>\n",
       "      <td>0</td>\n",
       "      <td>[3080.15920083, 3071.83539583, 3061.93812951, ...</td>\n",
       "      <td>[-80.84202473, -94.50641483, -110.36642266, -1...</td>\n",
       "    </tr>\n",
       "    <tr>\n",
       "      <th>3</th>\n",
       "      <td>[10.0, 13.4990445, 18.2224203, 24.5985264, 33....</td>\n",
       "      <td>[(930.93345951-0.0068507146j), (930.93327153-0...</td>\n",
       "      <td>L-R-RCPE</td>\n",
       "      <td>L1: 8.43e-07, R1: 9.06e+01, R2: 8.40e+02, CPE1...</td>\n",
       "      <td>0</td>\n",
       "      <td>[930.93345951, 930.93327153, 930.93302176, 930...</td>\n",
       "      <td>[-0.0068507146, -0.00910185162, -0.0120927041,...</td>\n",
       "    </tr>\n",
       "    <tr>\n",
       "      <th>4</th>\n",
       "      <td>[0.01, 0.0148907532, 0.0221734532, 0.033017942...</td>\n",
       "      <td>[(405.07355219-0.0149508921j), (405.07110253-0...</td>\n",
       "      <td>RCPE-RCPE-RCPE</td>\n",
       "      <td>R1: 1.03e+01, R2: 6.71e-01, R3: 3.94e+02, CPE1...</td>\n",
       "      <td>2</td>\n",
       "      <td>[405.07355219, 405.07110253, 405.06786553, 405...</td>\n",
       "      <td>[-0.0149508921, -0.0197551995, -0.026103215, -...</td>\n",
       "    </tr>\n",
       "  </tbody>\n",
       "</table>\n",
       "</div>"
      ],
      "text/plain": [
       "                                                freq  \\\n",
       "0  [0.1, 0.148398179, 0.220220195, 0.326802759, 0...   \n",
       "1  [1.0, 1.34339933, 1.80472177, 2.42446202, 3.25...   \n",
       "2  [1.0, 1.26360956, 1.59670912, 2.01761691, 2.54...   \n",
       "3  [10.0, 13.4990445, 18.2224203, 24.5985264, 33....   \n",
       "4  [0.01, 0.0148907532, 0.0221734532, 0.033017942...   \n",
       "\n",
       "                                                   Z             Circuit  \\\n",
       "0  [(309.82561192-156.06088233j), (267.46983919-1...  L-R-RCPE-RCPE-RCPE   \n",
       "1  [(344.50700012-0.87321496j), (344.36191597-0.9...     RC-RC-RCPE-RCPE   \n",
       "2  [(3080.15920083-80.84202473j), (3071.83539583-...  L-R-RCPE-RCPE-RCPE   \n",
       "3  [(930.93345951-0.0068507146j), (930.93327153-0...            L-R-RCPE   \n",
       "4  [(405.07355219-0.0149508921j), (405.07110253-0...      RCPE-RCPE-RCPE   \n",
       "\n",
       "                                          Parameters circuit_recla  \\\n",
       "0  L1: 2.94e-08, R1: 4.51e+00, R2: 5.19e-02, CPE1...             0   \n",
       "1  R1: 2.08e+02, R2: 2.50e+01, R3: 9.57e+01, R4: ...             2   \n",
       "2  L1: 3.35e-08, R1: 6.95e+01, R2: 7.49e+01, CPE1...             0   \n",
       "3  L1: 8.43e-07, R1: 9.06e+01, R2: 8.40e+02, CPE1...             0   \n",
       "4  R1: 1.03e+01, R2: 6.71e-01, R3: 3.94e+02, CPE1...             2   \n",
       "\n",
       "                                              Z_real  \\\n",
       "0  [309.82561192, 267.46983919, 229.38061493, 196...   \n",
       "1  [344.50700012, 344.36191597, 344.19647198, 344...   \n",
       "2  [3080.15920083, 3071.83539583, 3061.93812951, ...   \n",
       "3  [930.93345951, 930.93327153, 930.93302176, 930...   \n",
       "4  [405.07355219, 405.07110253, 405.06786553, 405...   \n",
       "\n",
       "                                              Z_imag  \n",
       "0  [-156.06088233, -146.21033646, -133.4855237, -...  \n",
       "1  [-0.87321496, -0.99738889, -1.13909869, -1.300...  \n",
       "2  [-80.84202473, -94.50641483, -110.36642266, -1...  \n",
       "3  [-0.0068507146, -0.00910185162, -0.0120927041,...  \n",
       "4  [-0.0149508921, -0.0197551995, -0.026103215, -...  "
      ]
     },
     "metadata": {},
     "output_type": "display_data"
    }
   ],
   "source": [
    "def complex_parts(cmp: pd.Series) -> tuple[pd.Series, pd.Series]:\n",
    "    real_part= cmp.apply(np.real)\n",
    "    imag_part= cmp.apply(np.imag)\n",
    "    return (real_part, imag_part)\n",
    "\n",
    "eis_data[\"Z_real\"], eis_data[\"Z_imag\"] = complex_parts(eis_data.Z)\n",
    "display(eis_data.head())"
   ]
  },
  {
   "cell_type": "markdown",
   "id": "81299c9e-06ce-4434-8c9b-ffa625af31e5",
   "metadata": {},
   "source": [
    "# Feature extraction\n",
    "\n",
    "First, we interpolated these two mappings: frequency-to-Z_real and frequency-to-Z_imaginary. Then, we numerically computed the first and second derivatives. \n",
    "\n",
    "The idea with this feature extraction was to make notable points such as maxima, minima, inflection points and straight lines, more evident. "
   ]
  },
  {
   "cell_type": "code",
   "execution_count": 6,
   "id": "aad8147d-4c09-4034-ae64-16ca9c273e9f",
   "metadata": {},
   "outputs": [],
   "source": [
    "def nth_derivatives(x: np.array, y: np.array, n: int = 1) -> list[np.array]:\n",
    "    this_der = y\n",
    "    res = [this_der]\n",
    "    for i in range(n):\n",
    "        nth = i+1\n",
    "        this_der = numerical_derivative(x, this_der)\n",
    "        res.append(this_der)\n",
    "    return res"
   ]
  },
  {
   "cell_type": "code",
   "execution_count": 7,
   "id": "fafd5bc3-5c3c-4a4f-a97c-8e098b19b107",
   "metadata": {},
   "outputs": [],
   "source": [
    "def numerical_derivative(x: np.array, y: np.array) -> np.array:\n",
    "    assert x.shape == y.shape\n",
    "    dy = np.gradient(y)\n",
    "    dx = np.gradient(x)\n",
    "    der = dy/dx\n",
    "    return der"
   ]
  },
  {
   "cell_type": "code",
   "execution_count": 8,
   "id": "32f02c42-8194-413c-8618-f1e1867b210b",
   "metadata": {},
   "outputs": [],
   "source": [
    "from typing import Callable\n",
    "def get_interpolating_function(x: np.ndarray, y: np.ndarray) -> Callable:\n",
    "    #print(f\"len(x)= {len(x)}, len(y={len(y)})\")\n",
    "    assert len(x) == len(y)\n",
    "    # Obtain functions for interpolation\n",
    "    interp = interpolate.interp1d(x, y, fill_value=\"extrapolate\") #, assume_sorted = True)\n",
    "    return interp\n",
    "\n",
    "def eval_func(x: np.ndarray, func: Callable) -> np.ndarray:\n",
    "    return func(x)"
   ]
  },
  {
   "cell_type": "code",
   "execution_count": 9,
   "id": "ed6d3305-8903-413c-a197-cb30e1a590a0",
   "metadata": {},
   "outputs": [],
   "source": [
    "freq_interpolation = np.logspace(1.0, 5.0, num=100, base=10.0)\n",
    "eis_data[\"freq_interpolation\"] = None\n",
    "eis_data[\"freq_interpolation\"] = eis_data[\"freq_interpolation\"].apply(lambda x: freq_interpolation)\n",
    "\n",
    "cols = []\n",
    "for i in [\"Z_real\", \"Z_imag\"]:\n",
    "    inter_p_col = f'{i}_interp'\n",
    "    eis_data[inter_p_col] = eis_data.apply(lambda x: get_interpolating_function(x.freq, x[i]), axis=1)\n",
    "    values_col = f'{i}_values'\n",
    "    eis_data[values_col] = eis_data.apply(lambda x: eval_func(x.freq_interpolation, x[inter_p_col]), axis=1)\n",
    "    cols.extend([inter_p_col, values_col])"
   ]
  },
  {
   "cell_type": "code",
   "execution_count": 10,
   "id": "d3eb7d26-f86c-4b03-ba0a-280ab98c631f",
   "metadata": {},
   "outputs": [],
   "source": [
    "eis_data[\"Z_real_d1_values\"] = eis_data.apply(lambda x: nth_derivatives(x.freq_interpolation, x.Z_real_values, 2)[1], axis=1)    \n",
    "eis_data[\"Z_real_d2_values\"] = eis_data.apply(lambda x: nth_derivatives(x.freq_interpolation, x.Z_real_values, 2)[2], axis=1)\n",
    "eis_data[\"Z_imag_d1_values\"] = eis_data.apply(lambda x: nth_derivatives(x.freq_interpolation, x.Z_imag_values, 2)[1], axis=1)    \n",
    "eis_data[\"Z_imag_d2_values\"] = eis_data.apply(lambda x: nth_derivatives(x.freq_interpolation, x.Z_imag_values, 2)[2], axis=1)\n"
   ]
  },
  {
   "cell_type": "code",
   "execution_count": 11,
   "id": "bea703d9-4bd2-471d-b447-f2c0653de58e",
   "metadata": {},
   "outputs": [],
   "source": [
    "cols= [\n",
    "        'Z_real_values'\n",
    "        ,'Z_real_d1_values'\n",
    "        ,'Z_real_d2_values'\n",
    "        ,'Z_imag_values'\n",
    "        ,'Z_imag_d1_values'\n",
    "        ,'Z_imag_d2_values'\n",
    "    ]"
   ]
  },
  {
   "cell_type": "markdown",
   "id": "c9e6679e-b12d-4a4d-bfd5-66d46a9dba2a",
   "metadata": {},
   "source": [
    "# Data Preprocessing\n",
    "\n",
    "Here we extract nd arrays into columns."
   ]
  },
  {
   "cell_type": "code",
   "execution_count": 12,
   "id": "a5b85575-690f-4dc2-81c7-cbdc98d5aaac",
   "metadata": {},
   "outputs": [
    {
     "name": "stdout",
     "output_type": "stream",
     "text": [
      "['Z_real_values', 'Z_real_d1_values', 'Z_real_d2_values', 'Z_imag_values', 'Z_imag_d1_values', 'Z_imag_d2_values']\n",
      "Z_real_values_{x:03d}\n",
      "Z_real_d1_values_{x:03d}\n",
      "Z_real_d2_values_{x:03d}\n",
      "Z_imag_values_{x:03d}\n",
      "Z_imag_d1_values_{x:03d}\n",
      "Z_imag_d2_values_{x:03d}\n"
     ]
    }
   ],
   "source": [
    "print(cols)\n",
    "exploded_eis_data = eis_data.explode(cols).reset_index()\n",
    "exploded_eis_data[\"idx\"] = exploded_eis_data.groupby(\"index\").transform(\"cumcount\")\n",
    "unstacked_dfs = []\n",
    "exploded_cols = []\n",
    "for c in cols:\n",
    "    name_col = c + \"_idx\"\n",
    "    name_template = c + \"_{x:03d}\"\n",
    "    print(name_template)\n",
    "    exploded_eis_data[name_col] = exploded_eis_data[\"idx\"].apply(lambda x: name_template.format(x=int(x)))\n",
    "    exploded_cols.extend(set(exploded_eis_data[name_col]))\n",
    "    exploded_eis_data[c] = exploded_eis_data[c].astype('float32')\n",
    "    temp_df = exploded_eis_data.set_index([\"index\", name_col])[c].unstack()\n",
    "    unstacked_dfs.append(temp_df)\n",
    "\n",
    "res = eis_data.join(unstacked_dfs)"
   ]
  },
  {
   "cell_type": "markdown",
   "id": "1a1ebb66-3fdf-4876-96a4-22414bd6e8da",
   "metadata": {},
   "source": [
    "# Normalize features"
   ]
  },
  {
   "cell_type": "code",
   "execution_count": 13,
   "id": "8a0ae194-caca-466f-a843-83d2aaa01119",
   "metadata": {},
   "outputs": [],
   "source": [
    "X = sklearn.preprocessing.normalize(res[exploded_cols], axis=0)"
   ]
  },
  {
   "cell_type": "markdown",
   "id": "92543ba9-c1e0-4165-8398-03cf7f0e05f4",
   "metadata": {},
   "source": [
    "# Split data into train and test sets\n",
    "\n",
    "We do this to evaluate the model in unseen data"
   ]
  },
  {
   "cell_type": "code",
   "execution_count": 14,
   "id": "3e88af8c-58eb-4977-8ed4-2ce17b274b65",
   "metadata": {},
   "outputs": [],
   "source": [
    "from sklearn.model_selection import train_test_split\n",
    "# case = case_001\n",
    "X_train, X_test, y_train, y_test = sklearn.model_selection.train_test_split(\n",
    "    res[exploded_cols],\n",
    "    res[\"circuit_recla\"],\n",
    "    test_size = 0.3,\n",
    "    # random_state = 0\n",
    ")"
   ]
  },
  {
   "cell_type": "markdown",
   "id": "9d7ad471-c359-46f3-aed7-3cbcbdbe030e",
   "metadata": {},
   "source": [
    "# Preparation of the LightGBM\n",
    "\n",
    "Here we prepare the classifying model. As the model was suffering overfitting, we use max_depth and min_data_in_leaf to control it.\n",
    "\n",
    "Note to the reader: we adapted the usage of LightGBM from the article by Prashant Banerjee \"LightGBM Classifier in Python\". Please refer to: https://www.kaggle.com/code/prashant111/lightgbm-classifier-in-python/notebook"
   ]
  },
  {
   "cell_type": "code",
   "execution_count": 15,
   "id": "a1c492b1-6053-4eeb-ac7f-08378c6d1950",
   "metadata": {},
   "outputs": [
    {
     "name": "stdout",
     "output_type": "stream",
     "text": [
      "[LightGBM] [Warning] min_data_in_leaf is set=100, min_child_samples=20 will be ignored. Current value: min_data_in_leaf=100\n"
     ]
    },
    {
     "data": {
      "text/plain": [
       "LGBMClassifier(max_depth=5, min_data_in_leaf=100)"
      ]
     },
     "execution_count": 15,
     "metadata": {},
     "output_type": "execute_result"
    }
   ],
   "source": [
    "\n",
    "clf = lgb.LGBMClassifier(max_depth=5, min_data_in_leaf=100)\n",
    "clf.fit(X_train, y_train)\n",
    "\n"
   ]
  },
  {
   "cell_type": "code",
   "execution_count": 16,
   "id": "c035e375-c7f4-4596-8fd5-8b98ab04df91",
   "metadata": {},
   "outputs": [],
   "source": [
    "y_pred=clf.predict(X_test)"
   ]
  },
  {
   "cell_type": "code",
   "execution_count": 17,
   "id": "f4fa5566-64f7-4a4f-a54c-60fe0a6103d9",
   "metadata": {},
   "outputs": [
    {
     "name": "stdout",
     "output_type": "stream",
     "text": [
      "LightGBM Model accuracy score: 0.7200\n"
     ]
    }
   ],
   "source": [
    "from sklearn.metrics import accuracy_score\n",
    "accuracy=accuracy_score(y_pred, y_test)\n",
    "print('LightGBM Model accuracy score: {0:0.4f}'.format(accuracy_score(y_test, y_pred)))\n"
   ]
  },
  {
   "cell_type": "code",
   "execution_count": 18,
   "id": "88e40ce7-929d-4323-a8f7-9e4d6c02037b",
   "metadata": {},
   "outputs": [],
   "source": [
    "y_pred_train = clf.predict(X_train)"
   ]
  },
  {
   "cell_type": "code",
   "execution_count": 19,
   "id": "8dee8db7-c479-4900-8104-114fff90767d",
   "metadata": {},
   "outputs": [
    {
     "name": "stdout",
     "output_type": "stream",
     "text": [
      "Training-set accuracy score: 0.8798\n"
     ]
    }
   ],
   "source": [
    "print('Training-set accuracy score: {0:0.4f}'. format(accuracy_score(y_train, y_pred_train)))"
   ]
  },
  {
   "cell_type": "code",
   "execution_count": 20,
   "id": "64d0fc89-3de9-4df3-a38e-7129ed17a1f0",
   "metadata": {},
   "outputs": [
    {
     "name": "stdout",
     "output_type": "stream",
     "text": [
      "Training set score: 0.8798\n",
      "Test set score: 0.7200\n"
     ]
    }
   ],
   "source": [
    "# print the scores on training and test set\n",
    "\n",
    "print('Training set score: {:.4f}'.format(clf.score(X_train, y_train)))\n",
    "print('Test set score: {:.4f}'.format(clf.score(X_test, y_test)))\n"
   ]
  },
  {
   "cell_type": "markdown",
   "id": "49f88418-043d-494f-87f2-ff56658bf171",
   "metadata": {},
   "source": [
    "# Confusion Matrix\n",
    "\n",
    "As can be seen by the confusion matrix, still the groups \"0\" (L-R-RCPE-n) and \"2\" (RCPE-n) are confused bewteen each other."
   ]
  },
  {
   "cell_type": "code",
   "execution_count": 21,
   "id": "e128dac2-f316-4dc5-9b33-41d5b8b73a9c",
   "metadata": {},
   "outputs": [
    {
     "name": "stdout",
     "output_type": "stream",
     "text": [
      "Confusion matrix\n",
      "\n",
      " [[481  10 305   0]\n",
      " [  3 219  58   3]\n",
      " [165  41 849   1]\n",
      " [ 10  14  17  63]]\n"
     ]
    }
   ],
   "source": [
    "from sklearn.metrics import confusion_matrix\n",
    "cm = confusion_matrix(y_test, y_pred)\n",
    "print('Confusion matrix\\n\\n', cm)"
   ]
  },
  {
   "cell_type": "code",
   "execution_count": 22,
   "id": "543cbba3-651e-4006-9b6e-000669b91092",
   "metadata": {},
   "outputs": [
    {
     "data": {
      "text/plain": [
       "<AxesSubplot:>"
      ]
     },
     "execution_count": 22,
     "metadata": {},
     "output_type": "execute_result"
    },
    {
     "data": {
      "image/png": "[encoded data removed]",
      "text/plain": [
       "<Figure size 432x288 with 2 Axes>"
      ]
     },
     "metadata": {
      "needs_background": "light"
     },
     "output_type": "display_data"
    }
   ],
   "source": [
    "cm_matrix = pd.DataFrame(\n",
    "    data=cm,\n",
    "    columns=[f\"Predicted_{i}\" for i in range(len(cm))], \n",
    "    index=[f\"Real_{i}\" for i in range(len(cm))]\n",
    ")\n",
    "\n",
    "sns.heatmap(cm_matrix, annot=True, fmt='d', cmap='YlGnBu')"
   ]
  },
  {
   "cell_type": "markdown",
   "id": "ce14d27d-b9c1-49ab-94b8-59fedc50c775",
   "metadata": {},
   "source": [
    "# UNLABELED DATA\n",
    "Now we face the real challenge: `unlabeled_data`"
   ]
  },
  {
   "cell_type": "code",
   "execution_count": 23,
   "id": "77b34079-2659-4709-8303-e2cdbcc29e74",
   "metadata": {},
   "outputs": [],
   "source": [
    "here = !pwd\n",
    "\n",
    "challenge_data_path = path.join(path.dirname(here[0]), \"unlabeled_data.csv\")\n",
    "challenge_data = eis_dataframe_from_csv(challenge_data_path)"
   ]
  },
  {
   "cell_type": "code",
   "execution_count": 24,
   "id": "48d53ba4-51e8-4279-aaae-297b2e232586",
   "metadata": {},
   "outputs": [],
   "source": [
    "challenge_data[\"len_freq\"] = challenge_data[\"freq\"].apply(lambda x: x.shape[0])\n",
    "challenge_data[\"len_Z\"] = challenge_data[\"Z\"].apply(lambda x: x.shape[0])"
   ]
  },
  {
   "cell_type": "code",
   "execution_count": 25,
   "id": "bc934ebf-7a7b-47ce-9c88-10786efdfdf5",
   "metadata": {},
   "outputs": [
    {
     "data": {
      "text/html": [
       "<div>\n",
       "<style scoped>\n",
       "    .dataframe tbody tr th:only-of-type {\n",
       "        vertical-align: middle;\n",
       "    }\n",
       "\n",
       "    .dataframe tbody tr th {\n",
       "        vertical-align: top;\n",
       "    }\n",
       "\n",
       "    .dataframe thead th {\n",
       "        text-align: right;\n",
       "    }\n",
       "</style>\n",
       "<table border=\"1\" class=\"dataframe\">\n",
       "  <thead>\n",
       "    <tr style=\"text-align: right;\">\n",
       "      <th></th>\n",
       "      <th>Z_real</th>\n",
       "      <th>Z_imag</th>\n",
       "    </tr>\n",
       "  </thead>\n",
       "  <tbody>\n",
       "    <tr>\n",
       "      <th>0</th>\n",
       "      <td>[107.98943481, 107.98943465, 107.98943442, 107...</td>\n",
       "      <td>[-1.91760783e-06, -2.69814865e-06, -3.79637798...</td>\n",
       "    </tr>\n",
       "    <tr>\n",
       "      <th>1</th>\n",
       "      <td>[1374.66297214, 1374.10472855, 1373.40544826, ...</td>\n",
       "      <td>[-5.24696677, -6.53835458, -8.14579098, -10.14...</td>\n",
       "    </tr>\n",
       "    <tr>\n",
       "      <th>2</th>\n",
       "      <td>[0.30615453, 0.30615039, 0.30614129, 0.3061213...</td>\n",
       "      <td>[-0.00051099, -0.00075703, -0.00112147, -0.001...</td>\n",
       "    </tr>\n",
       "    <tr>\n",
       "      <th>3</th>\n",
       "      <td>[185.15770678, 168.10345657, 144.77139506, 116...</td>\n",
       "      <td>[-55.35496519, -68.43230329, -79.23399855, -84...</td>\n",
       "    </tr>\n",
       "    <tr>\n",
       "      <th>4</th>\n",
       "      <td>[40238.7753, 40129.9244, 39956.838, 39675.02, ...</td>\n",
       "      <td>[-1100.82284, -1565.2135, -2220.09383, -3136.6...</td>\n",
       "    </tr>\n",
       "    <tr>\n",
       "      <th>...</th>\n",
       "      <td>...</td>\n",
       "      <td>...</td>\n",
       "    </tr>\n",
       "    <tr>\n",
       "      <th>18563</th>\n",
       "      <td>[62.14772073, 47.64383029, 36.62207005, 28.319...</td>\n",
       "      <td>[-92.1546178, -77.297139, -63.9647183, -52.393...</td>\n",
       "    </tr>\n",
       "    <tr>\n",
       "      <th>18564</th>\n",
       "      <td>[22.78791653, 22.78790763, 22.7878967, 22.7878...</td>\n",
       "      <td>[-3.955636e-05, -4.85689891e-05, -5.96246792e-...</td>\n",
       "    </tr>\n",
       "    <tr>\n",
       "      <th>18565</th>\n",
       "      <td>[699.42110996, 676.84357948, 649.12740737, 615...</td>\n",
       "      <td>[-88.73395903, -105.21733551, -122.95528022, -...</td>\n",
       "    </tr>\n",
       "    <tr>\n",
       "      <th>18566</th>\n",
       "      <td>[4356.04592034, 3306.44002566, 2514.71330434, ...</td>\n",
       "      <td>[-8696.39674, -6582.04052, -4980.63831, -3768....</td>\n",
       "    </tr>\n",
       "    <tr>\n",
       "      <th>18567</th>\n",
       "      <td>[61.44649466, 61.42852679, 61.40605217, 61.377...</td>\n",
       "      <td>[-0.0859955155, -0.107470657, -0.134288752, -0...</td>\n",
       "    </tr>\n",
       "  </tbody>\n",
       "</table>\n",
       "<p>18568 rows × 2 columns</p>\n",
       "</div>"
      ],
      "text/plain": [
       "                                                  Z_real  \\\n",
       "0      [107.98943481, 107.98943465, 107.98943442, 107...   \n",
       "1      [1374.66297214, 1374.10472855, 1373.40544826, ...   \n",
       "2      [0.30615453, 0.30615039, 0.30614129, 0.3061213...   \n",
       "3      [185.15770678, 168.10345657, 144.77139506, 116...   \n",
       "4      [40238.7753, 40129.9244, 39956.838, 39675.02, ...   \n",
       "...                                                  ...   \n",
       "18563  [62.14772073, 47.64383029, 36.62207005, 28.319...   \n",
       "18564  [22.78791653, 22.78790763, 22.7878967, 22.7878...   \n",
       "18565  [699.42110996, 676.84357948, 649.12740737, 615...   \n",
       "18566  [4356.04592034, 3306.44002566, 2514.71330434, ...   \n",
       "18567  [61.44649466, 61.42852679, 61.40605217, 61.377...   \n",
       "\n",
       "                                                  Z_imag  \n",
       "0      [-1.91760783e-06, -2.69814865e-06, -3.79637798...  \n",
       "1      [-5.24696677, -6.53835458, -8.14579098, -10.14...  \n",
       "2      [-0.00051099, -0.00075703, -0.00112147, -0.001...  \n",
       "3      [-55.35496519, -68.43230329, -79.23399855, -84...  \n",
       "4      [-1100.82284, -1565.2135, -2220.09383, -3136.6...  \n",
       "...                                                  ...  \n",
       "18563  [-92.1546178, -77.297139, -63.9647183, -52.393...  \n",
       "18564  [-3.955636e-05, -4.85689891e-05, -5.96246792e-...  \n",
       "18565  [-88.73395903, -105.21733551, -122.95528022, -...  \n",
       "18566  [-8696.39674, -6582.04052, -4980.63831, -3768....  \n",
       "18567  [-0.0859955155, -0.107470657, -0.134288752, -0...  \n",
       "\n",
       "[18568 rows x 2 columns]"
      ]
     },
     "execution_count": 25,
     "metadata": {},
     "output_type": "execute_result"
    }
   ],
   "source": [
    "challenge_data[\"Z_real\"], challenge_data[\"Z_imag\"] = complex_parts(challenge_data.Z)\n",
    "#challenge_data[\"len_Z_real\"] = challenge_data[\"Z_real\"].apply(lambda x: x.shape[0])\n",
    "#challenge_data[\"len_Z_imag\"] = challenge_data[\"Z_imag\"].apply(lambda x: x.shape[0])\n",
    "\n",
    "challenge_data[[\"Z_real\", \"Z_imag\"]]\n",
    "#display(challenge_data.head())\n",
    "\n",
    "#challenge_data[\"freq\"][0].shape"
   ]
  },
  {
   "cell_type": "code",
   "execution_count": 26,
   "id": "66b6110f-4b79-4f2d-bd20-2ab16d6b9698",
   "metadata": {},
   "outputs": [],
   "source": [
    "freq_interpolation = np.logspace(1.0, 5.0, num=100, base=10.0)\n",
    "challenge_data[\"freq_interpolation\"] = None\n",
    "challenge_data[\"freq_interpolation\"] = challenge_data[\"freq_interpolation\"].apply(lambda x: freq_interpolation)\n",
    "\n",
    "cols = []\n",
    "for i in [\"Z_real\", \"Z_imag\"]:\n",
    "    \n",
    "    inter_p_col = f'{i}_interp'\n",
    "    challenge_data[inter_p_col] = challenge_data.apply(lambda x: get_interpolating_function(x.freq, x[i]), axis=1)\n",
    "    values_col = f'{i}_values'\n",
    "    challenge_data[values_col] = challenge_data.apply(lambda x: eval_func(x.freq_interpolation, x[inter_p_col]), axis=1)\n",
    "    cols.extend([inter_p_col, values_col])\n",
    " \n",
    "    "
   ]
  },
  {
   "cell_type": "code",
   "execution_count": 27,
   "id": "b80ccf52-5af1-4f48-a50e-8bd615e9d68a",
   "metadata": {},
   "outputs": [],
   "source": [
    "challenge_data[\"Z_real_d1_values\"] = challenge_data.apply(lambda x: nth_derivatives(x.freq_interpolation, x.Z_real_values, 2)[1], axis=1)    \n",
    "challenge_data[\"Z_real_d2_values\"] = challenge_data.apply(lambda x: nth_derivatives(x.freq_interpolation, x.Z_real_values, 2)[2], axis=1)\n",
    "challenge_data[\"Z_imag_d1_values\"] = challenge_data.apply(lambda x: nth_derivatives(x.freq_interpolation, x.Z_imag_values, 2)[1], axis=1)    \n",
    "challenge_data[\"Z_imag_d2_values\"] = challenge_data.apply(lambda x: nth_derivatives(x.freq_interpolation, x.Z_imag_values, 2)[2], axis=1)\n"
   ]
  },
  {
   "cell_type": "code",
   "execution_count": 30,
   "id": "76143fb9-851a-4c03-9c79-a58df59106c8",
   "metadata": {},
   "outputs": [
    {
     "name": "stdout",
     "output_type": "stream",
     "text": [
      "['Z_real_values', 'Z_real_d1_values', 'Z_real_d2_values', 'Z_imag_values', 'Z_imag_d1_values', 'Z_imag_d2_values']\n",
      "shape exploded_data: (1856800, 16)\n",
      "Z_real_values_{x:03d}\n",
      "Total feature cols: 100\n",
      "Z_real_d1_values_{x:03d}\n",
      "Total feature cols: 200\n",
      "Z_real_d2_values_{x:03d}\n",
      "Total feature cols: 300\n",
      "Z_imag_values_{x:03d}\n",
      "Total feature cols: 400\n",
      "Z_imag_d1_values_{x:03d}\n",
      "Total feature cols: 500\n",
      "Z_imag_d2_values_{x:03d}\n",
      "Total feature cols: 600\n"
     ]
    }
   ],
   "source": [
    "cols= [\n",
    "        'Z_real_values'\n",
    "        ,'Z_real_d1_values'\n",
    "        ,'Z_real_d2_values'\n",
    "        ,'Z_imag_values'\n",
    "        ,'Z_imag_d1_values'\n",
    "        ,'Z_imag_d2_values'\n",
    "    ]\n",
    "#samples = challenge_data.sample(1000)\n",
    "print(cols)\n",
    "exploded_eis_data = challenge_data.explode(cols).reset_index()\n",
    "print(f\"shape exploded_data: {exploded_eis_data.shape}\")\n",
    "exploded_eis_data[\"idx\"] = exploded_eis_data.groupby(\"index\").transform(\"cumcount\")\n",
    "unstacked_dfs = []\n",
    "exploded_cols = []\n",
    "for c in cols:\n",
    "    name_col = c + \"_idx\"\n",
    "    name_template = c + \"_{x:03d}\"\n",
    "    print(name_template)\n",
    "    exploded_eis_data[name_col] = exploded_eis_data[\"idx\"].apply(lambda x: name_template.format(x=int(x)))\n",
    "    exploded_cols.extend(set(exploded_eis_data[name_col]))\n",
    "    print(f\"Total feature cols: {len(exploded_cols)}\")\n",
    "    exploded_eis_data[c] = exploded_eis_data[c].astype('float32')\n",
    "    temp_df = exploded_eis_data.set_index([\"index\", name_col])[c].unstack()\n",
    "    unstacked_dfs.append(temp_df)\n",
    "\n",
    "res = challenge_data.join(unstacked_dfs)"
   ]
  },
  {
   "cell_type": "code",
   "execution_count": 29,
   "id": "a1293d81-e8a4-4a04-b548-5c05194479c0",
   "metadata": {},
   "outputs": [],
   "source": [
    "submission_pred =clf.predict(res[exploded_cols])\n",
    "submission_pred"
   ]
  },
  {
   "cell_type": "code",
   "execution_count": null,
   "id": "5c295523-3560-48cb-9f24-1af2ff4dae3b",
   "metadata": {},
   "outputs": [],
   "source": [
    "inverse_reclasification"
   ]
  }
 ],
 "metadata": {
  "kernelspec": {
   "display_name": "Python 3 (ipykernel)",
   "language": "python",
   "name": "python3"
  },
  "language_info": {
   "codemirror_mode": {
    "name": "ipython",
    "version": 3
   },
   "file_extension": ".py",
   "mimetype": "text/x-python",
   "name": "python",
   "nbconvert_exporter": "python",
   "pygments_lexer": "ipython3",
   "version": "3.10.4"
  }
 },
 "nbformat": 4,
 "nbformat_minor": 5
}
